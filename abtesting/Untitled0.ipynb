{
  "nbformat": 4,
  "nbformat_minor": 0,
  "metadata": {
    "colab": {
      "name": "Untitled0.ipynb",
      "provenance": [],
      "authorship_tag": "ABX9TyMDcvpLs7yuTSiURGLmHtZ5",
      "include_colab_link": true
    },
    "kernelspec": {
      "name": "python3",
      "display_name": "Python 3"
    },
    "accelerator": "GPU"
  },
  "cells": [
    {
      "cell_type": "markdown",
      "metadata": {
        "id": "view-in-github",
        "colab_type": "text"
      },
      "source": [
        "<a href=\"https://colab.research.google.com/github/colawhite/udemy/blob/master/abtesting/Untitled0.ipynb\" target=\"_parent\"><img src=\"https://colab.research.google.com/assets/colab-badge.svg\" alt=\"Open In Colab\"/></a>"
      ]
    },
    {
      "cell_type": "code",
      "metadata": {
        "id": "gzCI9Bmgvkd3",
        "colab_type": "code",
        "colab": {}
      },
      "source": [
        "# https://arxiv.org/pdf/1707.02038.pdf\n",
        "from scipy.stats import beta\n",
        "import matplotlib.pyplot as plt\n",
        "import matplotlib as mpl\n",
        "import seaborn as sns\n",
        "import numpy as np\n",
        "from operator import add "
      ],
      "execution_count": 0,
      "outputs": []
    },
    {
      "cell_type": "code",
      "metadata": {
        "id": "UHBzEqo-SaZ8",
        "colab_type": "code",
        "colab": {
          "base_uri": "https://localhost:8080/",
          "height": 282
        },
        "outputId": "8f0bf3f5-57e0-476a-81d6-b5550af777a7"
      },
      "source": [
        "action1 = beta.rvs(a=600, b=400, size=1000)\n",
        "action2 = beta.rvs(a=400, b=600, size=1000)\n",
        "action3 = beta.rvs(a=4, b=6, size=10)\n",
        "sns.distplot(action1,hist=False,color='blue')\n",
        "sns.distplot(action2,hist=False,color='green')\n",
        "sns.distplot(action3,hist=False,color='red')"
      ],
      "execution_count": 2,
      "outputs": [
        {
          "output_type": "execute_result",
          "data": {
            "text/plain": [
              "<matplotlib.axes._subplots.AxesSubplot at 0x7fad1ed79358>"
            ]
          },
          "metadata": {
            "tags": []
          },
          "execution_count": 2
        },
        {
          "output_type": "display_data",
          "data": {
            "image/png": "[encoded data removed]",
            "text/plain": [
              "<Figure size 432x288 with 1 Axes>"
            ]
          },
          "metadata": {
            "tags": []
          }
        }
      ]
    },
    {
      "cell_type": "code",
      "metadata": {
        "id": "xtdGWuqfScrM",
        "colab_type": "code",
        "colab": {}
      },
      "source": [
        "simloops = 1000\n",
        "periods = 1000\n",
        "probs= [0.7,0.8,0.9]\n",
        "pct = {}\n",
        "pct[0] = [0]*periods\n",
        "pct[1] = [0]*periods\n",
        "pct[2] = [0]*periods"
      ],
      "execution_count": 0,
      "outputs": []
    },
    {
      "cell_type": "code",
      "metadata": {
        "id": "yq2fHxjc5UPG",
        "colab_type": "code",
        "colab": {
          "base_uri": "https://localhost:8080/",
          "height": 185
        },
        "outputId": "a2aa6e48-9340-47b1-c25b-4cc45316eac4"
      },
      "source": [
        "for sim in range(simloops):\n",
        "    a = [1,1,1]\n",
        "    b = [1,1,1]\n",
        "    for t in range(periods):\n",
        "        posterior_prob = np.random.beta(a,b)\n",
        "        action = np.random.choice(np.where(posterior_prob == posterior_prob.max())[0])\n",
        "        reward = np.random.binomial(1, probs[action])\n",
        "        pct[action][t] += 1\n",
        "        a[action] += reward\n",
        "        b[action] += 1-reward\n",
        "    if sim%100 == 1:\n",
        "        print (\"{} out of {} simulations have been completed\".format(sim,simloops))"
      ],
      "execution_count": 4,
      "outputs": [
        {
          "output_type": "stream",
          "text": [
            "1 out of 1000 simulations have been completed\n",
            "101 out of 1000 simulations have been completed\n",
            "201 out of 1000 simulations have been completed\n",
            "301 out of 1000 simulations have been completed\n",
            "401 out of 1000 simulations have been completed\n",
            "501 out of 1000 simulations have been completed\n",
            "601 out of 1000 simulations have been completed\n",
            "701 out of 1000 simulations have been completed\n",
            "801 out of 1000 simulations have been completed\n",
            "901 out of 1000 simulations have been completed\n"
          ],
          "name": "stdout"
        }
      ]
    },
    {
      "cell_type": "code",
      "metadata": {
        "id": "_5YVrLeC-gLP",
        "colab_type": "code",
        "colab": {
          "base_uri": "https://localhost:8080/",
          "height": 67
        },
        "outputId": "d42564ce-2d84-4552-d7b9-6c754c4c82df"
      },
      "source": [
        "for i in range(3):\n",
        "    print (i,pct[i][:5])"
      ],
      "execution_count": 5,
      "outputs": [
        {
          "output_type": "stream",
          "text": [
            "0 [324, 287, 284, 312, 292]\n",
            "1 [345, 330, 340, 325, 322]\n",
            "2 [331, 383, 376, 363, 386]\n"
          ],
          "name": "stdout"
        }
      ]
    },
    {
      "cell_type": "code",
      "metadata": {
        "id": "B0jSQfqe6Dot",
        "colab_type": "code",
        "colab": {}
      },
      "source": [
        "for i in range(3):\n",
        "    pct[i] = [x/simloops for x in pct[i]]"
      ],
      "execution_count": 0,
      "outputs": []
    },
    {
      "cell_type": "code",
      "metadata": {
        "id": "QqNGF4VZ-xt8",
        "colab_type": "code",
        "colab": {
          "base_uri": "https://localhost:8080/",
          "height": 67
        },
        "outputId": "8404928a-80ef-43de-8c4f-ff6286334cea"
      },
      "source": [
        "for i in range(3):\n",
        "    print (i,pct[i][:5])"
      ],
      "execution_count": 7,
      "outputs": [
        {
          "output_type": "stream",
          "text": [
            "0 [0.324, 0.287, 0.284, 0.312, 0.292]\n",
            "1 [0.345, 0.33, 0.34, 0.325, 0.322]\n",
            "2 [0.331, 0.383, 0.376, 0.363, 0.386]\n"
          ],
          "name": "stdout"
        }
      ]
    },
    {
      "cell_type": "code",
      "metadata": {
        "id": "tVZ-9nMG6Dro",
        "colab_type": "code",
        "colab": {
          "base_uri": "https://localhost:8080/",
          "height": 364
        },
        "outputId": "78f44ba5-fcca-4664-d9f9-f14469e31598"
      },
      "source": [
        "t = [x for x in range(periods)]\n",
        "mpl.style.use('seaborn')\n",
        "plt.plot(t,pct[0],color='red',label='action_0')\n",
        "plt.plot(t,pct[1],color='blue',label='action_1')\n",
        "plt.plot(t,pct[2],color='green',label='action_2')\n",
        "plt.legend()"
      ],
      "execution_count": 8,
      "outputs": [
        {
          "output_type": "execute_result",
          "data": {
            "text/plain": [
              "<matplotlib.legend.Legend at 0x7fad1e7cec88>"
            ]
          },
          "metadata": {
            "tags": []
          },
          "execution_count": 8
        },
        {
          "output_type": "display_data",
          "data": {
            "image/png": "[encoded data removed]",
            "text/plain": [
              "<Figure size 576x396 with 1 Axes>"
            ]
          },
          "metadata": {
            "tags": []
          }
        }
      ]
    },
    {
      "cell_type": "code",
      "metadata": {
        "id": "QJxz4YGP9532",
        "colab_type": "code",
        "colab": {
          "base_uri": "https://localhost:8080/",
          "height": 67
        },
        "outputId": "605241e7-325b-4dd9-f081-679900581128"
      },
      "source": [
        "for i in range(3):\n",
        "    print (i,pct[i][-5:])"
      ],
      "execution_count": 9,
      "outputs": [
        {
          "output_type": "stream",
          "text": [
            "0 [0.004, 0.008, 0.002, 0.001, 0.003]\n",
            "1 [0.026, 0.016, 0.016, 0.018, 0.015]\n",
            "2 [0.97, 0.976, 0.982, 0.981, 0.982]\n"
          ],
          "name": "stdout"
        }
      ]
    }
  ]
}